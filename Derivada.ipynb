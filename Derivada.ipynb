{
 "cells": [
  {
   "cell_type": "markdown",
   "metadata": {},
   "source": [
    " # **ANÁLISIS DE DATOS  24/09/2020 (HACIENDO LA DERIVADA)**\n",
    "En este documento se detallan todos los pasos necesarios para realizar la derivada de los datos recogidos en formato *csv*. Es una primera aproximación al reconocimiento de las nubes."
   ]
  },
  {
   "cell_type": "markdown",
   "metadata": {},
   "source": [
    "## Importando librerías necesarias\n",
    "A continuación se importan todas aquellas librerías que se necesitan para el análisis de los datos. Si alguna no existe, es necesario instalarla con el siguiente comando despues de haber importado la librería **sys**: \n",
    "\n",
    "**!{sys.executable} -m pip install nombredelalibrería**\n",
    "\n",
    "Las librerías utilizadas son las siguientes:\n",
    "* Pandas: Librería para manipulación y análisis de datos.\n",
    "* Matplotlib: Librería para la generación de gráficos a partir de datos contenidos en listas o arrays.\n",
    "* Scipy: Librería que se compone de herramientas y algoritmos matemático. En este caso se usarán las de procesamiento de señales.\n",
    "* Tsmoothie: Librería para suavizar series de datos y detección de *outliers*.\n",
    "* Numpy: Librería para crear vectores y matrices, junto con una gran colección de funciones matemáticas de alto nivel."
   ]
  },
  {
   "cell_type": "code",
   "execution_count": 2,
   "metadata": {},
   "outputs": [],
   "source": [
    "import pandas as pd\n",
    "from matplotlib import pyplot as plt\n",
    "from scipy.signal import lfilter\n",
    "from tsmoothie.smoother import *\n",
    "import numpy as np"
   ]
  },
  {
   "cell_type": "markdown",
   "metadata": {},
   "source": [
    "## Importando datos\n",
    "Para importar el archivo archivo *csv*, es necesario saber la ruta en la que se encuentra. Para hacerlo más sencillo, se puede copiar en la misma carpeta donde se ejecuta este documento."
   ]
  },
  {
   "cell_type": "code",
   "execution_count": 5,
   "metadata": {},
   "outputs": [],
   "source": [
    "data = pd.read_csv(\"24-09-2020.csv\")"
   ]
  },
  {
   "cell_type": "markdown",
   "metadata": {},
   "source": [
    "En la variable data se encuentra almacenado todo el archivo csv. Para echar un vistazo rápido a qué contine y cómo está organizado, se puede usar el comando print."
   ]
  },
  {
   "cell_type": "code",
   "execution_count": 6,
   "metadata": {},
   "outputs": [
    {
     "name": "stdout",
     "output_type": "stream",
     "text": [
      "             Time         t    G    T    V    C    F\n",
      "0        10:57:04    873038  436  391  576  119  537\n",
      "1        10:57:04    873048  437  392  578  121  549\n",
      "2        10:57:04    873058  438  392  579  115  547\n",
      "3        10:57:04    873068  436  394  578  106  542\n",
      "4        10:57:04    873078  438  394  575  116  537\n",
      "...           ...       ...  ...  ...  ...  ...  ...\n",
      "1011160  13:46:03  11027175  821  477  699   31    0\n",
      "1011161  13:46:03  11027185  821  478  699   28    0\n",
      "1011162  13:46:03  11027195  820  478  698   29    0\n",
      "1011163  13:46:03  11027205  820  478  700   30    0\n",
      "1011164  13:46:03  11027215  821  478  698   30    0\n",
      "\n",
      "[1011165 rows x 7 columns]\n"
     ]
    }
   ],
   "source": [
    "print(data)"
   ]
  },
  {
   "cell_type": "markdown",
   "metadata": {},
   "source": [
    "Como se puede ver, el archivo contiene 7 columnas y muchas filas con datos, que han sido recogidos en este caso cada 10 ms. Para realizar el análisis, la columna que interesa es la \"G\", que es la que pertenece a la irradiancia y la que mejor refleja el paso de nube."
   ]
  },
  {
   "cell_type": "markdown",
   "metadata": {},
   "source": [
    "### Importar las columnas que se necesiten\n",
    "Se pueden también importar las columnas que se quieran con el siguiente comando:"
   ]
  },
  {
   "cell_type": "code",
   "execution_count": 22,
   "metadata": {},
   "outputs": [
    {
     "name": "stdout",
     "output_type": "stream",
     "text": [
      "<class 'pandas.core.frame.DataFrame'>\n",
      "           G    F\n",
      "0        436  537\n",
      "1        437  549\n",
      "2        438  547\n",
      "3        436  542\n",
      "4        438  537\n",
      "...      ...  ...\n",
      "1011160  821    0\n",
      "1011161  821    0\n",
      "1011162  820    0\n",
      "1011163  820    0\n",
      "1011164  821    0\n",
      "\n",
      "[1011165 rows x 2 columns]\n"
     ]
    }
   ],
   "source": [
    "data = pd.read_csv(\"24-09-2020.csv\", usecols=[\"F\", \"G\"])\n",
    "print(type(data))\n",
    "print(data)"
   ]
  },
  {
   "cell_type": "markdown",
   "metadata": {},
   "source": [
    "O simplemente, una vez importado, se coge la columna que se quiera, que en nuestro caso será el eje y de la gráfica."
   ]
  },
  {
   "cell_type": "code",
   "execution_count": 15,
   "metadata": {},
   "outputs": [
    {
     "name": "stdout",
     "output_type": "stream",
     "text": [
      "<class 'pandas.core.series.Series'>\n",
      "0          436\n",
      "1          437\n",
      "2          438\n",
      "3          436\n",
      "4          438\n",
      "          ... \n",
      "1011160    821\n",
      "1011161    821\n",
      "1011162    820\n",
      "1011163    820\n",
      "1011164    821\n",
      "Name: G, Length: 1011165, dtype: int64\n"
     ]
    }
   ],
   "source": [
    "y = data[\"G\"]\n",
    "print(type(y))\n",
    "print(y)"
   ]
  },
  {
   "cell_type": "markdown",
   "metadata": {},
   "source": [
    "Se puede observar, que el tipo de dato no es el mismo. Las *series* son una estructura de datos de una columna de un *DataFrame*, aunque se pueden usar ambas para realizar una gráfica siempre y cuando se importe solo una columna, de lo contrario se graficaría todo lo importado.\n",
    "\n",
    "Se puede ver en el siguiente ejemplo. Lo primero es graficar habiendo cogido el dato como *series*. "
   ]
  },
  {
   "cell_type": "code",
   "execution_count": 18,
   "metadata": {},
   "outputs": [
    {
     "data": {
      "text/plain": [
       "[<matplotlib.lines.Line2D at 0x20b4896b700>]"
      ]
     },
     "execution_count": 18,
     "metadata": {},
     "output_type": "execute_result"
    },
    {
     "data": {
      "image/png": "[encoded data removed]",
      "text/plain": [
       "<Figure size 432x288 with 1 Axes>"
      ]
     },
     "metadata": {
      "needs_background": "light"
     },
     "output_type": "display_data"
    }
   ],
   "source": [
    "plt.plot(range(0, len(y)),y)"
   ]
  },
  {
   "cell_type": "markdown",
   "metadata": {},
   "source": [
    "Ahora se importa directamente la columna de la irradiancia, \"G\" en este caso."
   ]
  },
  {
   "cell_type": "code",
   "execution_count": 24,
   "metadata": {},
   "outputs": [
    {
     "data": {
      "text/plain": [
       "[<matplotlib.lines.Line2D at 0x20b48f894f0>]"
      ]
     },
     "execution_count": 24,
     "metadata": {},
     "output_type": "execute_result"
    },
    {
     "data": {
      "image/png": "[encoded data removed]",
      "text/plain": [
       "<Figure size 432x288 with 1 Axes>"
      ]
     },
     "metadata": {
      "needs_background": "light"
     },
     "output_type": "display_data"
    }
   ],
   "source": [
    "data = pd.read_csv(\"24-09-2020.csv\", usecols=[\"G\"])\n",
    "plt.plot(range(0, len(data)),data)"
   ]
  },
  {
   "cell_type": "markdown",
   "metadata": {},
   "source": [
    "El resultado es el mismo. Si se importan mas de una, se hacen las gráficas en conjunto."
   ]
  },
  {
   "cell_type": "code",
   "execution_count": 25,
   "metadata": {},
   "outputs": [
    {
     "data": {
      "text/plain": [
       "[<matplotlib.lines.Line2D at 0x20b48fd8ca0>,\n",
       " <matplotlib.lines.Line2D at 0x20b48fd8dc0>]"
      ]
     },
     "execution_count": 25,
     "metadata": {},
     "output_type": "execute_result"
    },
    {
     "data": {
      "image/png": "[encoded data removed]",
      "text/plain": [
       "<Figure size 432x288 with 1 Axes>"
      ]
     },
     "metadata": {
      "needs_background": "light"
     },
     "output_type": "display_data"
    }
   ],
   "source": [
    "data = pd.read_csv(\"24-09-2020.csv\", usecols=[\"F\", \"G\"])\n",
    "plt.plot(range(0, len(data)),data)"
   ]
  },
  {
   "cell_type": "markdown",
   "metadata": {},
   "source": [
    "**En este caso, se utilizará la variable \"y\" que contiene la irradiancia (G) porque es lo que se va a analizar para el análisis de  nubes. Lo anterior era un ejemplo a modo explicativo**"
   ]
  },
  {
   "cell_type": "markdown",
   "metadata": {},
   "source": [
    "## Filtrado previo de las señales\n",
    "Esto se hace para eliminar el ruido y obtener valores más precisos y mejor visualizados. Para este propósito, se van a utilizar dos métodos diferentes para ver cuál da mejores resultados.\n",
    "\n",
    "### Uso de filtro IRR\n",
    "Este filtro pertenece a la librería *scipy*. Hay otros tipos de filtros que también podrían probarse para ver su funcionamiento.\n",
    "El código que lo implementa es el siguiente:"
   ]
  },
  {
   "cell_type": "code",
   "execution_count": 27,
   "metadata": {},
   "outputs": [],
   "source": [
    "n = 1000  # the larger n is, the smoother curve will be\n",
    "b = [1.0 / n] * n\n",
    "a = 1\n",
    "y_filter = lfilter(b, a, y)"
   ]
  },
  {
   "cell_type": "code",
   "execution_count": null,
   "metadata": {},
   "outputs": [],
   "source": []
  }
 ],
 "metadata": {
  "kernelspec": {
   "display_name": "Python 3",
   "language": "python",
   "name": "python3"
  },
  "language_info": {
   "codemirror_mode": {
    "name": "ipython",
    "version": 3
   },
   "file_extension": ".py",
   "mimetype": "text/x-python",
   "name": "python",
   "nbconvert_exporter": "python",
   "pygments_lexer": "ipython3",
   "version": "3.8.3"
  }
 },
 "nbformat": 4,
 "nbformat_minor": 4
}
